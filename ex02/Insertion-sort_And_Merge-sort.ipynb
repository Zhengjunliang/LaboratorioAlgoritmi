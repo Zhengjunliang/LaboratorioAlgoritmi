{
 "cells": [
  {
   "cell_type": "markdown",
   "id": "768c1c00-682f-4f40-8bb1-28f57773fc0b",
   "metadata": {},
   "source": [
    "<h1 style=\"font-size: 3rem; color: darkblue\">Insertion Sort vs Merge Sort</h1>"
   ]
  },
  {
   "cell_type": "markdown",
   "id": "49767e00-8f66-4274-a5be-c1473d4d0f09",
   "metadata": {},
   "source": [
    "# Introduzione\n",
    "_Insertion Sort_ e _Merge Sort_ sono tra i principali __algoritmi di ordinamento__ utilizzati per ordinare una lista di elementi in ordine __crescente__ o __decrescente__.\n",
    "_Insertion Sort_ ordina la lista __elemento per elemento__, ma diventa inefficiente con grandi quantità di dati. D'altra parte, il _Merge Sort_ è più efficiente grazie alla strategia __divide et impera__. Dividendo, ordinando e unendo le sotto-liste, riduce notevolmente il tempo di esecuzione, rendendolo ideale per ordinare grandi liste."
   ]
  },
  {
   "cell_type": "markdown",
   "id": "c1dd9906-dc89-48ec-b7b2-c661baaaffcc",
   "metadata": {},
   "source": [
    "<h2 style=\"font-size: 2rem; color: #3437eb;\">Insertion Sort</h2>"
   ]
  },
  {
   "cell_type": "markdown",
   "id": "f79f6a35-b8ff-401c-9529-d94a850166f7",
   "metadata": {},
   "source": [
    "## Breve descrizione\n",
    "_Insertion Sort_ è un algoritmo di ordinamento che costruisce una sequenza ordinata posizionando ciascun elemento nella sua giusta posizione, formando una parte ordinata e una parte non ordinata. Il funzionamento essenziale prevede di prendere un elemento alla volta e inserirlo nella posizione corretta confrontandolo con gli elementi già ordinati, mantenendo la sequenza ordinata in ogni momento. ordinati.\n",
    "\r\n",
    "\r\n"
   ]
  },
  {
   "cell_type": "markdown",
   "id": "d8050495-44fe-4235-9412-b930d7e3997f",
   "metadata": {},
   "source": [
    "## Codice"
   ]
  },
  {
   "cell_type": "code",
   "execution_count": 5,
   "id": "69a98753-09ab-4a29-b37f-18eb6ad0e716",
   "metadata": {},
   "outputs": [],
   "source": [
    "def insertionSort(lista):\n",
    "    # Iniziamo il ciclo dal secondo elemento (indice 1) poiché il primo elemento è già ordinato\n",
    "    for j in range(1, len(lista)):\n",
    "        chiave = lista[j]\n",
    "\n",
    "        i = j - 1\n",
    "        # Continuiamo a spostare la chiave indietro finché è più piccola dell'ultimo elemento nell'array\n",
    "        while (i > -1) and chiave < lista[i]:\n",
    "            lista[i + 1] = lista[i]\n",
    "            i = i - 1\n",
    "        lista[i + 1] = chiave\n",
    "    return lista"
   ]
  },
  {
   "cell_type": "markdown",
   "id": "75ba1b20-3b33-40ce-9dfd-bb230ae93442",
   "metadata": {},
   "source": [
    "### Esempio di utilizzo"
   ]
  },
  {
   "cell_type": "code",
   "execution_count": 10,
   "id": "f3535b10-8b2a-4b67-a830-9ff7b09dd499",
   "metadata": {},
   "outputs": [
    {
     "name": "stdout",
     "output_type": "stream",
     "text": [
      "la lista originale è: [12, 11, 13, 5, 6]\n",
      "la lista ordinata è: [5, 6, 11, 12, 13]\n"
     ]
    }
   ],
   "source": [
    "lista = [12, 11, 13, 5, 6]\n",
    "print(\"la lista originale è:\", lista)\n",
    "print(\"la lista ordinata è:\", insertion_sort(lista))"
   ]
  },
  {
   "cell_type": "markdown",
   "id": "ccfda48c-8ad2-4821-a14e-9d14fb6c3dc3",
   "metadata": {},
   "source": [
    "## Tempo di Esecuzione\n",
    "La __complessità computazionale__ dell'algoritmo di _Insertion Sort_ dipende principalmente dalla disposizione degli elementi nell'array da ordinare.\n",
    "Nel _caso migliore_, la complessità dell'algoritmo di _Insertion Sort_ è **__O(n)__** per ordinare un array di _n_ elementi. Questo si verifica quando l'array è già __ordinato__, quindi l'algoritmo deve solo verificare se ogni elemento è maggiore o uguale al suo predecessore, richiedendo un solo confronto per ciascun elemento.\n",
    "Nel _caso peggiore_ e anche nel _caso medio_, la complessità dell'_Insertion Sort_ è **__O(n^2)__**. Questo si verifica quando l'array è ordinato in __ordine inverso__ o in modo __casuale__, richiedendo confronti e scambi ripetuti per inserire ogni elemento nella posizione corretta all'interno della parte ordinata dell'array. "
   ]
  },
  {
   "cell_type": "markdown",
   "id": "ce3ed110-e223-4fc1-9ece-6acc1f5d9368",
   "metadata": {},
   "source": [
    "<h2 style=\"font-size: 2rem; color: #3437eb;\">Merge Sort</h2>"
   ]
  },
  {
   "cell_type": "markdown",
   "id": "afb01621-d2cd-4a47-9ed8-62d33ecaef0d",
   "metadata": {},
   "source": [
    "## Breve Descrizione\n",
    "_Merge Sort_ è un efficiente algoritmo di ordinamento che adotta la strategia __Divide et impera__. Inizia dividendo la sequenza di _n_ elementi da ordinare in due sottosequenze di _n/2_ elementi ciascuna. Successivamente, ordina separatamente queste due sottosequenze utilizzando il metodo __merge sort__ in modo __ricorsivo__. Una volta che entrambe le sottosequenze sono ordinate, le combina in modo ordinato, unendo così le due metà ordinate per ottenere la sequenza complessivamente ordinata."
   ]
  },
  {
   "cell_type": "markdown",
   "id": "1702265f-acd3-4b6b-becf-d24c64e4322c",
   "metadata": {},
   "source": [
    "## Codice"
   ]
  },
  {
   "cell_type": "code",
   "execution_count": 1,
   "id": "69cf7f86-006d-4b77-adf4-c9cf14dd259e",
   "metadata": {},
   "outputs": [],
   "source": [
    "def merge(sinistra,destra):\n",
    "\ti,j = 0,0\n",
    "\trisultato = []\n",
    "    \n",
    "\t#scorri sia la sottolista sinistra che quella destra\n",
    "\twhile i < len(sinistra) and j < len(destra):\n",
    "\t\t#se il valore nella sottolista sinistra è minore o uguale a quello nella sottolista destra, aggiungilo al risultato\n",
    "\t\tif sinistra[i] <= destra[j]:\n",
    "\t\t\trisultato.append(sinistra[i])\n",
    "\t\t\ti += 1\n",
    "\t\telse:\n",
    "\t\t\t#viceversa di prima\n",
    "\t\t\trisultato.append(destra[j])\n",
    "\t\t\tj += 1\n",
    "            \n",
    "\t#concatena il resto della sottolista sinistra e destra\n",
    "\trisultato += sinistra[i:]\n",
    "\trisultato += destra[j:]\n",
    "\n",
    "\treturn risultato\n",
    "\n",
    "def merge_sort(lista):\n",
    "\t#se la lista contiene solo un elemento, restituiscila\n",
    "\tif len(lista) <= 1:\n",
    "\t\treturn lista\n",
    "\telse:\n",
    "\t\t#suddividi la lista in due sottoliste e suddividile ricorsivamente\n",
    "\t\tmedio = int(len(lista)/2)\n",
    "\t\tsottolista_sinistra = merge_sort(lista[:medio])\n",
    "\t\tsottolista_destra = merge_sort(lista[medio:])\n",
    "        \n",
    "\t\t#restituisci la lista unita usando la funzione merge\n",
    "\t\treturn merge(sottolista_sinistra,sottolista_destra)"
   ]
  },
  {
   "cell_type": "markdown",
   "id": "c0d5f824-bffb-4da6-9961-9370bed6dd8f",
   "metadata": {},
   "source": [
    "### Esempio di utilizzo"
   ]
  },
  {
   "cell_type": "code",
   "execution_count": 2,
   "id": "01fc64ff-af66-44a6-b775-01603b52676c",
   "metadata": {},
   "outputs": [
    {
     "name": "stdout",
     "output_type": "stream",
     "text": [
      "la lista ordinata è:  [1, 2, 2, 3, 3, 5, 5, 6, 8, 9, 12, 22, 53, 75, 83, 123, 12123]\n"
     ]
    }
   ],
   "source": [
    "lista = [3,1,5,3,2,5,8,2,9,6,12,53,75,22,83,123,12123]\n",
    "print('la lista ordinata è: ', merge_sort(lista))"
   ]
  },
  {
   "cell_type": "markdown",
   "id": "e831cd7e-1245-43a5-b988-fcacd540be88",
   "metadata": {},
   "source": [
    "## Tempo di Esecuzione"
   ]
  },
  {
   "cell_type": "markdown",
   "id": "99eb69c8-a033-4661-b6b5-1830954bd99b",
   "metadata": {},
   "source": [
    "La _complessità computazionale_ di _Merge Sort_ è **O(nlogn)**, sia nel caso migliore che peggiore. La complessità è determinata principalmente dalla fase di __merge__, che richiede **O(n)** operazioni per unire due sottoarray ordinati. Poichè l'array viene diviso a metà in ogni passo, il numero totale di fusioni richieste è **O(logn)**.\n",
    "Quindi, la _complessità computazionale_ totale di _Merge Sort_ è **O(nlogn)**, poiché in ogni livello della ricorsione abbiamo **O(n)** operazioni di merge e il numero totale di livelli della ricorsione è **O(logn)**."
   ]
  },
  {
   "cell_type": "markdown",
   "id": "b6d4fce1-d366-470b-be3a-7a2292b5f50d",
   "metadata": {},
   "source": [
    "# Testing"
   ]
  },
  {
   "cell_type": "code",
   "execution_count": null,
   "id": "092bee92-e4ed-4a97-b832-167db21d2b19",
   "metadata": {},
   "outputs": [],
   "source": []
  }
 ],
 "metadata": {
  "kernelspec": {
   "display_name": "Python 3 (ipykernel)",
   "language": "python",
   "name": "python3"
  },
  "language_info": {
   "codemirror_mode": {
    "name": "ipython",
    "version": 3
   },
   "file_extension": ".py",
   "mimetype": "text/x-python",
   "name": "python",
   "nbconvert_exporter": "python",
   "pygments_lexer": "ipython3",
   "version": "3.11.5"
  }
 },
 "nbformat": 4,
 "nbformat_minor": 5
}
